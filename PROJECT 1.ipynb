{
 "cells": [
  {
   "cell_type": "code",
   "execution_count": 137,
   "id": "d1245a94",
   "metadata": {},
   "outputs": [
    {
     "name": "stdout",
     "output_type": "stream",
     "text": [
      "THANKS FOR CONTACTING NEW NATURE BEAUTY COSMETICS LTD\n",
      "********************************************************\n",
      "hello:\n",
      " Hi\n",
      "  \n",
      "ENTER THE PRODUCT YOU WANT AND QUANTITY:\n",
      "classic foundation 3 and kissbeauty powdercake 2\n",
      " \n",
      "THE PRODUCT IS AVAILABLE, YOUR ORDER HAS BEEN TAKEN\n",
      "ENTER YOUR NAME AND EMAIL ADDRESS::Mrs Blessing, Email:obiefuleblessing2017@gmail.com\n",
      "Mrs Blessing, Email:obiefuleblessing2017@gmail.com\n",
      "INVOICE WILL BE SENT TO YOUR EMAIL\n",
      "THANKS FOR YOUR PATRONAGE\n"
     ]
    }
   ],
   "source": [
    "#PRODUCT IN STOCK\n",
    "productavailable1 = {\"product name\":\"foundation\",\"productid\":\"classic\",\"price\":20000, \"quantity\":9}\n",
    "productavailable2 = {\"product name\":\"powder cake\",\"productid\":\"kissbeauty\", \"price\":15000, \"quantity\":5}\n",
    "\n",
    "# MESSAGE TO CUSTOMER\n",
    "m = \"THANKS FOR CONTACTING NEW NATURE BEAUTY COSMETICS LTD\"\n",
    "n =\"********************************************************\"\n",
    "print(m)\n",
    "print(n)\n",
    "greetings = input(\"hello:\\n \")\n",
    "s = \"  \"\n",
    "print(s)\n",
    "customer = input(\"ENTER THE PRODUCT YOU WANT AND QUANTITY:\\n\")\n",
    "\n",
    "\n",
    "s = \" \"\n",
    "print(s)\n",
    "p1 = productavailable1\n",
    "p2 = productavailable2\n",
    "\n",
    "\n",
    "\n",
    "# CONDITIONAL STATEMENT\n",
    "if p1 or p2  == customer and quantity:\n",
    "    print(\"THE PRODUCT IS AVAILABLE, YOUR ORDER HAS BEEN TAKEN\")\n",
    "    print(input(\"ENTER YOUR NAME AND EMAIL ADDRESS::\"))\n",
    "    print(\"INVOICE WILL BE SENT TO YOUR EMAIL\")\n",
    "    print(\"THANKS FOR YOUR PATRONAGE\")\n",
    "elif(\"p1 or p2 != customer\"):\n",
    "    print(\"THE PRODUCT IS NOT IN STOCK\")\n",
    "    print(\"KINDLY CHECK IN ANOTHER TIME\")\n",
    "    print(\"THANKS FOR YOUR PATRONAGE\")\n",
    "elif(\"p1 or p2 quantity is less than quantity demand\"):\n",
    "    print(\"PRODUCT AVAILABLE BUT LIMITED QUANTITY\")\n",
    "    print(\"THANKS FOR YOUR PATRONAGE\")\n",
    "else:\n",
    "    print(\"PRODUCT NOT AVAILABLE AT THE MOMENT\")\n",
    "    print(\"WE HAVE ANOTHER PRODUCT YOU WILL LIKE\")\n",
    "    print(\"THANKS FOR YOUR PATRONAGE\")\n"
   ]
  },
  {
   "cell_type": "code",
   "execution_count": 141,
   "id": "eb5e1891",
   "metadata": {},
   "outputs": [
    {
     "name": "stdout",
     "output_type": "stream",
     "text": [
      "THANKS FOR CONTACTING NEW NATURE BEAUTY COSMETICS LTD\n",
      "********************************************************\n",
      "hello:\n",
      " hello\n",
      "  \n",
      "ENTER THE PRODUCT YOU WANT AND QUANTITY:\n",
      "iman powder 3pack\n",
      " \n",
      "THE PRODUCT IS NOT IN STOCK\n",
      "KINDLY CHECK IN ANOTHER TIME\n",
      "THANKS FOR YOUR PATRONAGE\n"
     ]
    }
   ],
   "source": [
    "#PRODUCT IN STOCK\n",
    "productavailable1 = {\"product name\":\"foundation\",\"productid\":\"classic\",\"price\":20000, \"quantity\":9}\n",
    "productavailable2 = {\"product name\":\"powder cake\",\"productid\":\"kissbeauty\", \"price\":15000, \"quantity\":5}\n",
    "\n",
    "# MESSAGE TO CUSTOMER\n",
    "m = \"THANKS FOR CONTACTING NEW NATURE BEAUTY COSMETICS LTD\"\n",
    "n =\"********************************************************\"\n",
    "print(m)\n",
    "print(n)\n",
    "greetings = input(\"hello:\\n \")\n",
    "s = \"  \"\n",
    "print(s)\n",
    "customer = input(\"ENTER THE PRODUCT YOU WANT AND QUANTITY:\\n\")\n",
    "s = \" \"\n",
    "print(s)\n",
    "p1 = productavailable1\n",
    "p2 = productavailable2\n",
    "\n",
    "\n",
    "\n",
    "# CONDITIONAL STATEMENT\n",
    "if p1 or p2  == customer and quantity:\n",
    "    print(\"THE PRODUCT IS AVAILABLE, YOUR ORDER HAS BEEN TAKEN\")\n",
    "    print(input(\"ENTER YOUR NAME AND EMAIL ADDRESS::\"))\n",
    "    print(\"INVOICE WILL BE SENT TO YOUR EMAIL\")\n",
    "    print(\"THANKS FOR YOUR PATRONAGE\")\n",
    "elif(\"p1 or p2 != customer\"):    \n",
    "    print(\"THE PRODUCT IS NOT IN STOCK\")\n",
    "    print(\"KINDLY CHECK IN ANOTHER TIME\")\n",
    "    print(\"THANKS FOR YOUR PATRONAGE\")\n",
    "elif(\"p1 or p2 quantity is less than quantity demand\"):\n",
    "    print(\"PRODUCT AVAILABLE BUT LIMITED QUANTITY\")\n",
    "    print(\"THANKS FOR YOUR PATRONAGE\")\n",
    "else:\n",
    "    print(\"PRODUCT NOT AVAILABLE AT THE MOMENT\")\n",
    "    print(\"WE HAVE ANOTHER PRODUCT YOU WILL LIKE\")\n",
    "    print(\"THANKS FOR YOUR PATRONAGE\")\n"
   ]
  },
  {
   "cell_type": "code",
   "execution_count": null,
   "id": "c50ad2e5",
   "metadata": {},
   "outputs": [],
   "source": []
  }
 ],
 "metadata": {
  "kernelspec": {
   "display_name": "Python 3 (ipykernel)",
   "language": "python",
   "name": "python3"
  },
  "language_info": {
   "codemirror_mode": {
    "name": "ipython",
    "version": 3
   },
   "file_extension": ".py",
   "mimetype": "text/x-python",
   "name": "python",
   "nbconvert_exporter": "python",
   "pygments_lexer": "ipython3",
   "version": "3.9.12"
  }
 },
 "nbformat": 4,
 "nbformat_minor": 5
}
